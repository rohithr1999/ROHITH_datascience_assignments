{
 "cells": [
  {
   "cell_type": "code",
   "execution_count": null,
   "id": "e6bea9a5-bd02-481c-b890-327f43351af0",
   "metadata": {},
   "outputs": [],
   "source": [
    "Roll no:108806\n",
    "Name: Rohith R\n",
    "course name:DA\n",
    "batch:geetika mam batch (9:30 to 11:30)"
   ]
  },
  {
   "cell_type": "code",
   "execution_count": 22,
   "id": "74a470c8-efab-45e1-8768-d9cd0c70eb3b",
   "metadata": {},
   "outputs": [],
   "source": [
    "import pandas as pd\n",
    "import numpy as np\n",
    "import warnings \n",
    "warnings.filterwarnings('ignore')"
   ]
  },
  {
   "cell_type": "markdown",
   "id": "031bc617-a4ce-4a44-84dc-d0f98b0444fe",
   "metadata": {},
   "source": [
    "## 1.Excercise-1\n",
    "###### Write a Python program that checks whether a given number is prime or not. A prime number is a natural number greater than 1 that has no positive divisors other than 1 and itself."
   ]
  },
  {
   "cell_type": "code",
   "execution_count": 6,
   "id": "9a7d4ca6-98af-4eea-830a-8134e3bc5819",
   "metadata": {},
   "outputs": [
    {
     "name": "stdin",
     "output_type": "stream",
     "text": [
      "Enter the number:  4\n"
     ]
    },
    {
     "name": "stdout",
     "output_type": "stream",
     "text": [
      "4 is not a prime number\n"
     ]
    }
   ],
   "source": [
    "number=int(input('Enter the number: '))# we will input a number\n",
    "for i in range(2,number):# declaration of range\n",
    "    if number % i==0: # check for condition of prime number\n",
    "        print(f'{number} is not a prime number')\n",
    "        break\n",
    "else:\n",
    "    print(f'{number} is a prime number')\n"
   ]
  },
  {
   "cell_type": "markdown",
   "id": "d1fa8b06-7baf-407c-ae14-9a80fe82de25",
   "metadata": {},
   "source": [
    "## 2.Excercise-2\n",
    "##### Develop a Python program that generates two random numbers and asks the user to enter the product of these numbers. The program should then check if the user's answer is correct and display an appropriate message."
   ]
  },
  {
   "cell_type": "code",
   "execution_count": 43,
   "id": "bff8a3aa-7a19-451e-a7b4-ad5cd4a92ed6",
   "metadata": {},
   "outputs": [
    {
     "name": "stdin",
     "output_type": "stream",
     "text": [
      "what is the product of 611 and 788 ?:  859724\n"
     ]
    },
    {
     "name": "stdout",
     "output_type": "stream",
     "text": [
      "sorry the correct answer is 481468, better luck next time!\n"
     ]
    }
   ],
   "source": [
    "import random # import random from numpy library\n",
    "num1=random.randint(1,1000)# taking the random values from 1,1000 for both num1 and num2\n",
    "num2=random.randint(1,1000)\n",
    "product=num1*num2 \n",
    "user_answer=int(input(f'what is the product of {num1} and {num2} ?: '))\n",
    "if user_answer==product:#checking of coder and user_answer similarity \n",
    "    print('Its correct well done')\n",
    "else:\n",
    "    print(f'sorry the correct answer is {product}, better luck next time!')"
   ]
  },
  {
   "cell_type": "markdown",
   "id": "89c5a62b-aead-4b05-abbb-f74e920f7c7b",
   "metadata": {},
   "source": [
    "## 3. Excercise-3\n",
    "##### Create a Python script that prints the squares of all even or odd numbers within the range of 100 to 200. Choose either even or odd numbers and document your choice in the code."
   ]
  },
  {
   "cell_type": "code",
   "execution_count": 35,
   "id": "9f34f7e4-5ddc-4c58-89eb-2ec402483d3b",
   "metadata": {},
   "outputs": [
    {
     "name": "stdout",
     "output_type": "stream",
     "text": [
      "The square of even number 100 is 10000\n",
      "The square of even number 102 is 10404\n",
      "The square of even number 104 is 10816\n",
      "The square of even number 106 is 11236\n",
      "The square of even number 108 is 11664\n",
      "The square of even number 110 is 12100\n",
      "The square of even number 112 is 12544\n",
      "The square of even number 114 is 12996\n",
      "The square of even number 116 is 13456\n",
      "The square of even number 118 is 13924\n",
      "The square of even number 120 is 14400\n",
      "The square of even number 122 is 14884\n",
      "The square of even number 124 is 15376\n",
      "The square of even number 126 is 15876\n",
      "The square of even number 128 is 16384\n",
      "The square of even number 130 is 16900\n",
      "The square of even number 132 is 17424\n",
      "The square of even number 134 is 17956\n",
      "The square of even number 136 is 18496\n",
      "The square of even number 138 is 19044\n",
      "The square of even number 140 is 19600\n",
      "The square of even number 142 is 20164\n",
      "The square of even number 144 is 20736\n",
      "The square of even number 146 is 21316\n",
      "The square of even number 148 is 21904\n",
      "The square of even number 150 is 22500\n",
      "The square of even number 152 is 23104\n",
      "The square of even number 154 is 23716\n",
      "The square of even number 156 is 24336\n",
      "The square of even number 158 is 24964\n",
      "The square of even number 160 is 25600\n",
      "The square of even number 162 is 26244\n",
      "The square of even number 164 is 26896\n",
      "The square of even number 166 is 27556\n",
      "The square of even number 168 is 28224\n",
      "The square of even number 170 is 28900\n",
      "The square of even number 172 is 29584\n",
      "The square of even number 174 is 30276\n",
      "The square of even number 176 is 30976\n",
      "The square of even number 178 is 31684\n",
      "The square of even number 180 is 32400\n",
      "The square of even number 182 is 33124\n",
      "The square of even number 184 is 33856\n",
      "The square of even number 186 is 34596\n",
      "The square of even number 188 is 35344\n",
      "The square of even number 190 is 36100\n",
      "The square of even number 192 is 36864\n",
      "The square of even number 194 is 37636\n",
      "The square of even number 196 is 38416\n",
      "The square of even number 198 is 39204\n",
      "The square of even number 200 is 40000\n"
     ]
    }
   ],
   "source": [
    "#These code is only for even number case\n",
    "def even_squares(start,end):\n",
    "    for number in range(start,end+1):\n",
    "        if number%2==0:#check whether the number is odd or even\n",
    "            print(f'The square of even number {number} is {number**2}')\n",
    "def main(): \n",
    "    start=100\n",
    "    end=200\n",
    "    even_squares(start, end)\n",
    "if __name__==\"__main__\":\n",
    "    main()\n"
   ]
  },
  {
   "cell_type": "code",
   "execution_count": 49,
   "id": "5997daf2-a4df-4df6-abc9-4897ed84aa2c",
   "metadata": {},
   "outputs": [
    {
     "name": "stdout",
     "output_type": "stream",
     "text": [
      "The square of even number 100 is 10000\n",
      "The square of odd number101 is 10201 \n",
      "The square of even number 102 is 10404\n",
      "The square of odd number103 is 10609 \n",
      "The square of even number 104 is 10816\n",
      "The square of odd number105 is 11025 \n",
      "The square of even number 106 is 11236\n",
      "The square of odd number107 is 11449 \n",
      "The square of even number 108 is 11664\n",
      "The square of odd number109 is 11881 \n",
      "The square of even number 110 is 12100\n",
      "The square of odd number111 is 12321 \n",
      "The square of even number 112 is 12544\n",
      "The square of odd number113 is 12769 \n",
      "The square of even number 114 is 12996\n",
      "The square of odd number115 is 13225 \n",
      "The square of even number 116 is 13456\n",
      "The square of odd number117 is 13689 \n",
      "The square of even number 118 is 13924\n",
      "The square of odd number119 is 14161 \n",
      "The square of even number 120 is 14400\n",
      "The square of odd number121 is 14641 \n",
      "The square of even number 122 is 14884\n",
      "The square of odd number123 is 15129 \n",
      "The square of even number 124 is 15376\n",
      "The square of odd number125 is 15625 \n",
      "The square of even number 126 is 15876\n",
      "The square of odd number127 is 16129 \n",
      "The square of even number 128 is 16384\n",
      "The square of odd number129 is 16641 \n",
      "The square of even number 130 is 16900\n",
      "The square of odd number131 is 17161 \n",
      "The square of even number 132 is 17424\n",
      "The square of odd number133 is 17689 \n",
      "The square of even number 134 is 17956\n",
      "The square of odd number135 is 18225 \n",
      "The square of even number 136 is 18496\n",
      "The square of odd number137 is 18769 \n",
      "The square of even number 138 is 19044\n",
      "The square of odd number139 is 19321 \n",
      "The square of even number 140 is 19600\n",
      "The square of odd number141 is 19881 \n",
      "The square of even number 142 is 20164\n",
      "The square of odd number143 is 20449 \n",
      "The square of even number 144 is 20736\n",
      "The square of odd number145 is 21025 \n",
      "The square of even number 146 is 21316\n",
      "The square of odd number147 is 21609 \n",
      "The square of even number 148 is 21904\n",
      "The square of odd number149 is 22201 \n",
      "The square of even number 150 is 22500\n",
      "The square of odd number151 is 22801 \n",
      "The square of even number 152 is 23104\n",
      "The square of odd number153 is 23409 \n",
      "The square of even number 154 is 23716\n",
      "The square of odd number155 is 24025 \n",
      "The square of even number 156 is 24336\n",
      "The square of odd number157 is 24649 \n",
      "The square of even number 158 is 24964\n",
      "The square of odd number159 is 25281 \n",
      "The square of even number 160 is 25600\n",
      "The square of odd number161 is 25921 \n",
      "The square of even number 162 is 26244\n",
      "The square of odd number163 is 26569 \n",
      "The square of even number 164 is 26896\n",
      "The square of odd number165 is 27225 \n",
      "The square of even number 166 is 27556\n",
      "The square of odd number167 is 27889 \n",
      "The square of even number 168 is 28224\n",
      "The square of odd number169 is 28561 \n",
      "The square of even number 170 is 28900\n",
      "The square of odd number171 is 29241 \n",
      "The square of even number 172 is 29584\n",
      "The square of odd number173 is 29929 \n",
      "The square of even number 174 is 30276\n",
      "The square of odd number175 is 30625 \n",
      "The square of even number 176 is 30976\n",
      "The square of odd number177 is 31329 \n",
      "The square of even number 178 is 31684\n",
      "The square of odd number179 is 32041 \n",
      "The square of even number 180 is 32400\n",
      "The square of odd number181 is 32761 \n",
      "The square of even number 182 is 33124\n",
      "The square of odd number183 is 33489 \n",
      "The square of even number 184 is 33856\n",
      "The square of odd number185 is 34225 \n",
      "The square of even number 186 is 34596\n",
      "The square of odd number187 is 34969 \n",
      "The square of even number 188 is 35344\n",
      "The square of odd number189 is 35721 \n",
      "The square of even number 190 is 36100\n",
      "The square of odd number191 is 36481 \n",
      "The square of even number 192 is 36864\n",
      "The square of odd number193 is 37249 \n",
      "The square of even number 194 is 37636\n",
      "The square of odd number195 is 38025 \n",
      "The square of even number 196 is 38416\n",
      "The square of odd number197 is 38809 \n",
      "The square of even number 198 is 39204\n",
      "The square of odd number199 is 39601 \n"
     ]
    }
   ],
   "source": [
    "#This code is for both even and odd cases\n",
    "for i in range(100,200):\n",
    "    if i%2==0:\n",
    "        print(f'The square of even number {i} is {pow(i,2)}')# for even number\n",
    "    else:\n",
    "        print(f'The square of odd number{i} is {pow(i,2)} ')# odd number"
   ]
  },
  {
   "cell_type": "markdown",
   "id": "838dee89-9067-47b9-aaac-778b4dfccdc5",
   "metadata": {},
   "source": [
    "## 4. Excercise-4\n",
    "##### write a program to count the number of words in a given text.\n",
    "##### example:\n",
    "##### input_text = \"This is a sample text. This text will be used to demonstrate the word counter.\"\n",
    "##### Expected output:\n",
    "##### 'This': 2 \n",
    "##### 'is': 1\n",
    "##### 'a': 1\n",
    "##### 'sample': 1\n",
    "##### 'text.': 1\n",
    "\n"
   ]
  },
  {
   "cell_type": "code",
   "execution_count": 24,
   "id": "730ac0a7-6eb8-4bff-848c-b2f94b6350f7",
   "metadata": {},
   "outputs": [
    {
     "name": "stdout",
     "output_type": "stream",
     "text": [
      "'this': 2\n",
      "'is': 1\n",
      "'a': 1\n",
      "'sample': 1\n",
      "'text': 2\n",
      "'will': 1\n",
      "'be': 1\n",
      "'used': 1\n",
      "'to': 1\n",
      "'demonstrate': 1\n",
      "'the': 1\n",
      "'word': 1\n",
      "'counter': 1\n"
     ]
    }
   ],
   "source": [
    "def count_words(text):\n",
    "    \n",
    "    text = text.lower()# to convert the string to lowercase\n",
    "\n",
    "    for char in '.,!?;:()[]{}\"\\'\\/-':\n",
    "        text = text.replace(char, \" \")# to replace all punctuation to spaces\n",
    "    words = text.split()# split the text in words\n",
    "    word_count = {}# create a empty dictionary to store the words counts\n",
    "    for word in words:# count the occurance of each word\n",
    "        if word in word_count:\n",
    "            word_count[word] += 1\n",
    "        else:\n",
    "            word_count[word] = 1\n",
    "\n",
    "    return word_count\n",
    "\n",
    "def print_word_counts(word_count):# print the counts in desire formatt\n",
    "    \n",
    "    for word, count in word_count.items():\n",
    "        print(f\"'{word}': {count}\")\n",
    "\n",
    "def main():\n",
    "    input_text = \"This is a sample text. This text will be used to demonstrate the word counter.\" # sample input\n",
    "    word_count = count_words(input_text)# call the function with the object and attribute\n",
    "\n",
    "    print_word_counts(word_count)# print the counts\n",
    "\n",
    "if __name__ == \"__main__\":\n",
    "    main()\n"
   ]
  },
  {
   "cell_type": "markdown",
   "id": "88efd068-0725-412f-ab28-4c32f4cc1370",
   "metadata": {},
   "source": [
    "## 5. Excercise-5\n",
    "##### Write a Python function called is_palindrome that takes a string as input and returns True if the string is a palindrome, and False otherwise. A palindrome is a word, phrase, number, or other sequence of characters that reads the same forward and backward, ignoring spaces, punctuation, and capitalization."
   ]
  },
  {
   "cell_type": "code",
   "execution_count": 51,
   "id": "a1a07eef-4470-4ed8-b634-dae8cf8af8b7",
   "metadata": {},
   "outputs": [
    {
     "name": "stdin",
     "output_type": "stream",
     "text": [
      "enter the word for which palindrome need to checked:  aroj\n"
     ]
    },
    {
     "name": "stdout",
     "output_type": "stream",
     "text": [
      "The palindrome is False\n"
     ]
    }
   ],
   "source": [
    "#with function\n",
    "def is_palindrome(text):\n",
    "    processed_text = ''.join(char.lower() for char in text if char.isalnum())\n",
    "    return processed_text == processed_text[::-1]\n",
    "input_str=input('enter the word for which palindrome need to checked: ')\n",
    "print(f\"The palindrome is {is_palindrome(input_str)}\")\n"
   ]
  },
  {
   "cell_type": "code",
   "execution_count": 65,
   "id": "ce2e8892-7d94-4e46-b399-32082f831a9f",
   "metadata": {},
   "outputs": [
    {
     "name": "stdin",
     "output_type": "stream",
     "text": [
      "Enter the word for palindrome check:   rohor@#$\n"
     ]
    },
    {
     "name": "stdout",
     "output_type": "stream",
     "text": [
      "The palindrome is True\n"
     ]
    }
   ],
   "source": [
    "# without function\n",
    "string=input('Enter the word for palindrome check:  ')\n",
    "string=''.join(char.lower()for char in string if char.isalnum())\n",
    "if string==string[::-1]:\n",
    "    print ('The palindrome is True')\n",
    "else:\n",
    "    print('The palindrome is False')"
   ]
  },
  {
   "cell_type": "code",
   "execution_count": null,
   "id": "86c40e07-f237-4966-8565-bdf94d0edd58",
   "metadata": {},
   "outputs": [],
   "source": []
  }
 ],
 "metadata": {
  "kernelspec": {
   "display_name": "Python [conda env:base] *",
   "language": "python",
   "name": "conda-base-py"
  },
  "language_info": {
   "codemirror_mode": {
    "name": "ipython",
    "version": 3
   },
   "file_extension": ".py",
   "mimetype": "text/x-python",
   "name": "python",
   "nbconvert_exporter": "python",
   "pygments_lexer": "ipython3",
   "version": "3.12.7"
  }
 },
 "nbformat": 4,
 "nbformat_minor": 5
}
