{
 "cells": [
  {
   "cell_type": "code",
   "execution_count": null,
   "id": "4adfa997-5a8d-4271-a607-990194f4ecdd",
   "metadata": {},
   "outputs": [],
   "source": [
    "Roll no:108806\n",
    "Name: Rohith R\n",
    "course name:DA\n",
    "batch:geetika mam batch (9:30 to 11:30)"
   ]
  },
  {
   "cell_type": "code",
   "execution_count": 1,
   "id": "2a259abf-7391-4a4d-a10e-7e64e51828ff",
   "metadata": {},
   "outputs": [],
   "source": [
    "# importing the libraries\n",
    "import pandas as pd\n",
    "import numpy as np"
   ]
  },
  {
   "cell_type": "markdown",
   "id": "14e50667-c9b5-4a23-a73b-eda2817e25b9",
   "metadata": {},
   "source": [
    "### a. Build 99% Confidence Interval Using Sample Standard Deviation"
   ]
  },
  {
   "cell_type": "code",
   "execution_count": 3,
   "id": "39539178-f66a-4550-95f2-1b148de89bab",
   "metadata": {},
   "outputs": [
    {
     "data": {
      "text/plain": [
       "array([[1.13],\n",
       "       [1.55],\n",
       "       [1.43],\n",
       "       [0.92],\n",
       "       [1.25],\n",
       "       [1.36],\n",
       "       [1.32],\n",
       "       [0.85],\n",
       "       [1.07],\n",
       "       [1.48],\n",
       "       [1.2 ],\n",
       "       [1.33],\n",
       "       [1.18],\n",
       "       [1.22],\n",
       "       [1.29]])"
      ]
     },
     "execution_count": 3,
     "metadata": {},
     "output_type": "execute_result"
    }
   ],
   "source": [
    "#create a numpy array\n",
    "df=np.array([[1.13],\n",
    "               [1.55],\n",
    "               [1.43],\n",
    "               [0.92],\n",
    "               [1.25],\n",
    "               [1.36],\n",
    "               [1.32],\n",
    "               [0.85],\n",
    "               [1.07],\n",
    "               [1.48],\n",
    "               [1.20],\n",
    "               [1.33],\n",
    "               [1.18],\n",
    "               [1.22],\n",
    "               [1.29]\n",
    "              ])\n",
    "df"
   ]
  },
  {
   "cell_type": "code",
   "execution_count": 4,
   "id": "dfc0a8ee-2c27-42c8-8f90-036f4656d97d",
   "metadata": {},
   "outputs": [
    {
     "data": {
      "text/plain": [
       "1.2386666666666666"
      ]
     },
     "execution_count": 4,
     "metadata": {},
     "output_type": "execute_result"
    }
   ],
   "source": [
    "#  To find the mean in the of the data\n",
    "df.mean()"
   ]
  },
  {
   "cell_type": "code",
   "execution_count": 5,
   "id": "3d55c520-49ee-47d8-a999-e0d5beadb93b",
   "metadata": {},
   "outputs": [
    {
     "data": {
      "text/plain": [
       "0.18661427836285438"
      ]
     },
     "execution_count": 5,
     "metadata": {},
     "output_type": "execute_result"
    }
   ],
   "source": [
    "# To find the same standard deviation\n",
    "df.std()"
   ]
  },
  {
   "cell_type": "code",
   "execution_count": 6,
   "id": "96d49914-c04c-4bd1-a82f-99a5f433ea03",
   "metadata": {},
   "outputs": [
    {
     "data": {
      "text/plain": [
       "(0.7579801399989947, 1.7193531933343384)"
      ]
     },
     "execution_count": 6,
     "metadata": {},
     "output_type": "execute_result"
    }
   ],
   "source": [
    "from scipy import stats\n",
    "interval=stats.norm.interval(0.99,loc=df.mean(),scale=df.std())\n",
    "interval"
   ]
  },
  {
   "cell_type": "markdown",
   "id": "17e05aa9-44f3-413d-bb5d-75535030719d",
   "metadata": {},
   "source": [
    "- import the numpy library\n",
    "\n",
    "- Each row represents a single data point and Each column represents a variable.\n",
    "\n",
    "- **df.mean():** function is used to compute the mean (average) of all the elements in the array. The mean is the sum of all values divided by the number of values.\n",
    "\n",
    "- **df.std():** function computes the standard deviation of the values in the array. The standard deviation measures the amount of variation or dispersion in the dataset\n",
    "\n",
    "- **Scipy:** uses the SciPy library to calculate a 99% confidence interval for a normal distribution\n",
    "\n",
    "- **stats.norm.interval(0.99, loc, scale):** calculates the range of values where the true mean of the population would fall, with 99% confidence, based on the sample mean and standard deviation.\n",
    "\n",
    "- 99 % confindance that population mean will be lies under this interval **(.7579801399989947, 1.7193531933343384)**"
   ]
  },
  {
   "cell_type": "markdown",
   "id": "b232f34f-b434-4f5d-98d0-98cfd0cf1fcf",
   "metadata": {},
   "source": [
    "### b. Build 99% Confidence Interval Using Known Population Standard Deviation"
   ]
  },
  {
   "cell_type": "code",
   "execution_count": 7,
   "id": "1be692cd-83bd-4e30-ba0d-5405c6ccb45e",
   "metadata": {},
   "outputs": [],
   "source": [
    "# given population standard deviation\n",
    "std=0.2 # in millions"
   ]
  },
  {
   "cell_type": "code",
   "execution_count": 8,
   "id": "c76de377-6fa2-41c3-9506-fb3b597986e1",
   "metadata": {},
   "outputs": [
    {
     "data": {
      "text/plain": [
       "(0.7235008059568865, 1.7538325273764466)"
      ]
     },
     "execution_count": 8,
     "metadata": {},
     "output_type": "execute_result"
    }
   ],
   "source": [
    "from scipy import stats\n",
    "interval=stats.norm.interval(0.99,loc=df.mean(),scale=std)\n",
    "interval"
   ]
  },
  {
   "cell_type": "markdown",
   "id": "69d8f84b-90e7-426b-85a3-3f219189fb0f",
   "metadata": {},
   "source": [
    "- This imports the norm object from the scipy.stats module\n",
    "\n",
    "- stats.norm.interval: This is a method used to compute the confidence interval for a normal distribution.\n",
    "\n",
    "- **Known population standard deviation (scale):** This is used to define the spread of the distribution, and it is known to be **0.2 million** characters.\n",
    "\n",
    "- There is a very high level of confidence (99%) that the actual average number of characters a print-head can print before failure falls between **(0.7235008059568865, 1.7538325273764466)** million characters."
   ]
  },
  {
   "cell_type": "code",
   "execution_count": null,
   "id": "4383b564-2e25-489c-a5d6-a65598682342",
   "metadata": {},
   "outputs": [],
   "source": []
  }
 ],
 "metadata": {
  "kernelspec": {
   "display_name": "Python 3 (ipykernel)",
   "language": "python",
   "name": "python3"
  },
  "language_info": {
   "codemirror_mode": {
    "name": "ipython",
    "version": 3
   },
   "file_extension": ".py",
   "mimetype": "text/x-python",
   "name": "python",
   "nbconvert_exporter": "python",
   "pygments_lexer": "ipython3",
   "version": "3.12.7"
  }
 },
 "nbformat": 4,
 "nbformat_minor": 5
}
