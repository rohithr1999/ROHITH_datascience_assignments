{
 "cells": [
  {
   "cell_type": "code",
   "execution_count": null,
   "id": "9fb58759-41f0-482d-98b0-e9f135adfa4b",
   "metadata": {},
   "outputs": [],
   "source": [
    "Roll no:108806\n",
    "Name: Rohith R\n",
    "course name:DA\n",
    "batch:geetika mam batch (9:30 to 11:30)"
   ]
  },
  {
   "cell_type": "markdown",
   "id": "7b8996e4-5664-4416-9921-69d7ff78dad0",
   "metadata": {},
   "source": [
    "## chi_square test"
   ]
  },
  {
   "cell_type": "markdown",
   "id": "46150f92-60ee-49fa-9a0b-50a362e97704",
   "metadata": {},
   "source": [
    "### 1. state the hypothesis"
   ]
  },
  {
   "cell_type": "markdown",
   "id": "20019a85-f530-4bae-959d-13dcaf416237",
   "metadata": {},
   "source": [
    "<p style=\"color:blue;font-size:15px;font-family:'Times new roman';\">a hypothesis test designed to test for a statistically significant relationship between nominal and ordinal variables organized in a bivariate table\n",
    "it will checks the dependency between the categories.</p>\n",
    "\n",
    "**Null hypothesis (Ho):**\n",
    "\n",
    "---> The variables are independent\n",
    "\n",
    "---> The proportions of one variable are the same for different values of the other variable\n",
    "\n",
    "---> The population follows the specified distribution\n",
    "\n",
    "\n",
    "**Alternative hypothesis (H1):**\n",
    "\n",
    "---> The variables are related\n",
    "\n",
    "---> The proportions of one variable are not the same for different values of the other variable\n",
    "\n",
    "---> The population does not follow the specified distribution\n",
    "\n"
   ]
  },
  {
   "cell_type": "markdown",
   "id": "2651a608-b2d6-4e22-81be-0ace14ec71e5",
   "metadata": {},
   "source": [
    "### 2. Compute the Chi-Square Statistic "
   ]
  },
  {
   "cell_type": "markdown",
   "id": "68c94255-346d-42e5-ae50-6bd963546413",
   "metadata": {},
   "source": [
    "chi_square_statistic = np.sum((observed - expected)**2 / expected)\n",
    "\n",
    "- **observed**: An array of observed frequencies for each category.\n",
    "\n",
    "- **expected:** An array of expected frequencies for each category.\n",
    "\n",
    "- The np.sum function sums up the individual values across the array.\n",
    "\n",
    "- Divide the squared difference by the expected frequency for each category.\n",
    "Sum the results for all categories."
   ]
  },
  {
   "cell_type": "code",
   "execution_count": 12,
   "id": "db8c75e5-8e7d-424c-b90e-349ea8a3b4a2",
   "metadata": {},
   "outputs": [
    {
     "data": {
      "text/plain": [
       "array([[ 50,  70],\n",
       "       [ 80, 100],\n",
       "       [ 60,  90],\n",
       "       [ 30,  50],\n",
       "       [ 20,  50]])"
      ]
     },
     "execution_count": 12,
     "metadata": {},
     "output_type": "execute_result"
    }
   ],
   "source": [
    "# 3. create the numpy array and pandas dataframe to find the critical value\n",
    "import numpy as np\n",
    "observed=np.array([[50,70],[80, 100],\n",
    "    [60, 90],\n",
    "    [30, 50],\n",
    "    [20, 50]\n",
    "])\n",
    "observed"
   ]
  },
  {
   "cell_type": "code",
   "execution_count": 31,
   "id": "a35158a2-6c2b-47ef-8122-8ce9ed44df1b",
   "metadata": {},
   "outputs": [
    {
     "data": {
      "text/html": [
       "<div>\n",
       "<style scoped>\n",
       "    .dataframe tbody tr th:only-of-type {\n",
       "        vertical-align: middle;\n",
       "    }\n",
       "\n",
       "    .dataframe tbody tr th {\n",
       "        vertical-align: top;\n",
       "    }\n",
       "\n",
       "    .dataframe thead th {\n",
       "        text-align: right;\n",
       "    }\n",
       "</style>\n",
       "<table border=\"1\" class=\"dataframe\">\n",
       "  <thead>\n",
       "    <tr style=\"text-align: right;\">\n",
       "      <th></th>\n",
       "      <th>satisfaction</th>\n",
       "      <th>Smart Thermostat</th>\n",
       "      <th>Smart Light</th>\n",
       "    </tr>\n",
       "  </thead>\n",
       "  <tbody>\n",
       "    <tr>\n",
       "      <th>0</th>\n",
       "      <td>Very Satisfied</td>\n",
       "      <td>50</td>\n",
       "      <td>70</td>\n",
       "    </tr>\n",
       "    <tr>\n",
       "      <th>1</th>\n",
       "      <td>Satisfied</td>\n",
       "      <td>80</td>\n",
       "      <td>100</td>\n",
       "    </tr>\n",
       "    <tr>\n",
       "      <th>2</th>\n",
       "      <td>Neutral</td>\n",
       "      <td>60</td>\n",
       "      <td>90</td>\n",
       "    </tr>\n",
       "    <tr>\n",
       "      <th>3</th>\n",
       "      <td>Unsatisfied</td>\n",
       "      <td>30</td>\n",
       "      <td>50</td>\n",
       "    </tr>\n",
       "    <tr>\n",
       "      <th>4</th>\n",
       "      <td>Very Unsatisfied</td>\n",
       "      <td>20</td>\n",
       "      <td>50</td>\n",
       "    </tr>\n",
       "  </tbody>\n",
       "</table>\n",
       "</div>"
      ],
      "text/plain": [
       "       satisfaction  Smart Thermostat  Smart Light\n",
       "0    Very Satisfied                50           70\n",
       "1         Satisfied                80          100\n",
       "2           Neutral                60           90\n",
       "3       Unsatisfied                30           50\n",
       "4  Very Unsatisfied                20           50"
      ]
     },
     "execution_count": 31,
     "metadata": {},
     "output_type": "execute_result"
    }
   ],
   "source": [
    "# create the data frame\n",
    "import pandas as pd\n",
    "data_table=pd.DataFrame({'satisfaction':['Very Satisfied','Satisfied','Neutral','Unsatisfied','Very Unsatisfied'],\n",
    "               'Smart Thermostat':[50,80,60,30,20],\n",
    "             'Smart Light':[70,100,90,50,50]})\n",
    "data_table"
   ]
  },
  {
   "cell_type": "code",
   "execution_count": 63,
   "id": "6385214f-50dc-4a82-bee3-d201f2652dea",
   "metadata": {},
   "outputs": [
    {
     "data": {
      "text/plain": [
       "array([120, 180, 150,  80,  70])"
      ]
     },
     "execution_count": 63,
     "metadata": {},
     "output_type": "execute_result"
    }
   ],
   "source": [
    "# observed values\n",
    "row=observed.sum(axis=1)\n",
    "row"
   ]
  },
  {
   "cell_type": "code",
   "execution_count": 65,
   "id": "38a92039-8355-4ef6-b633-f341668777c4",
   "metadata": {},
   "outputs": [
    {
     "data": {
      "text/plain": [
       "array([240, 360])"
      ]
     },
     "execution_count": 65,
     "metadata": {},
     "output_type": "execute_result"
    }
   ],
   "source": [
    "column=observed.sum(axis=0)\n",
    "column"
   ]
  },
  {
   "cell_type": "code",
   "execution_count": 67,
   "id": "8bc09d6f-aa10-4ebb-9875-3a35a81876d1",
   "metadata": {},
   "outputs": [
    {
     "name": "stdout",
     "output_type": "stream",
     "text": [
      "The total observed :600\n"
     ]
    }
   ],
   "source": [
    "Total=observed.sum()\n",
    "print(f'The total observed :{Total}')"
   ]
  },
  {
   "cell_type": "code",
   "execution_count": 53,
   "id": "6141403c-cff8-4fb5-9c36-71cee0a0962e",
   "metadata": {},
   "outputs": [
    {
     "data": {
      "text/plain": [
       "array([[ 48.,  72.],\n",
       "       [ 72., 108.],\n",
       "       [ 60.,  90.],\n",
       "       [ 32.,  48.],\n",
       "       [ 28.,  42.]])"
      ]
     },
     "execution_count": 53,
     "metadata": {},
     "output_type": "execute_result"
    }
   ],
   "source": [
    "# expected values\n",
    "expected_values=np.outer(row,column)/Total\n",
    "expected_values"
   ]
  },
  {
   "cell_type": "markdown",
   "id": "b3cea4e3-5320-41b0-88fb-862ecda0d783",
   "metadata": {},
   "source": [
    "### 3. Determine the critical value"
   ]
  },
  {
   "cell_type": "markdown",
   "id": "698ba82d-ca40-4d12-b793-18c3a0598410",
   "metadata": {},
   "source": [
    "- **Find Critical Value:** The critical value for the chi-square statistic at alpha=0.05 and df = 4 can be found using a chi-square distribution\n",
    "\n",
    "- **Find Degrees of Freedom (df):** Using the formula\n",
    "\n",
    "**df = (number_rows-1)(number_columns-1), given rows are 5 and columns is 2**\n",
    "\n",
    "- If your calculated chi-square statistic exceeds this critical value, you can reject the null hypothesis. Otherwise, you fail to reject the null hypothesis."
   ]
  },
  {
   "cell_type": "code",
   "execution_count": 78,
   "id": "cc7be926-3819-45e1-8e5c-bca253eeae37",
   "metadata": {},
   "outputs": [
    {
     "name": "stdout",
     "output_type": "stream",
     "text": [
      "The critical value :9.488\n"
     ]
    }
   ],
   "source": [
    "import scipy.stats as stats # import scipy libraries\n",
    "critical_value=stats.chi2.ppf(q=0.95,df=4) #  1-0.05=0.95 ,    df=(rows-1)(columns-1) ...(5-1)(2-1)=4\n",
    "print(f'The critical value :{np.round(critical_value,3)}')"
   ]
  },
  {
   "cell_type": "markdown",
   "id": "f758d30c-0d82-48b5-8893-28ff67a151fc",
   "metadata": {},
   "source": [
    "### 4. Make a Decision "
   ]
  },
  {
   "cell_type": "markdown",
   "id": "08d051e6-1f20-465c-8105-97c095efd316",
   "metadata": {},
   "source": [
    "- If the Chi-Square statistic is less than critical value, we fail to reject the null hypothesis.\n",
    "\n",
    "- **5.638<9.488**,we fail to reject the null hypothesis\n",
    "\n",
    "- The Chi-Square statistic **(5.545)** is less than the critical value **(9.488)** at the **0.050** significance level.\n",
    "\n",
    "- **we fail to reject the null hypothesis.** This means that there is not enough evidence to suggest that the observed frequencies differ significantly from the expected frequencies."
   ]
  },
  {
   "cell_type": "markdown",
   "id": "5328e1f6-b248-4d89-b269-c7143f2eeff3",
   "metadata": {},
   "source": [
    "## Hypothesis Testing"
   ]
  },
  {
   "cell_type": "markdown",
   "id": "c0cef87f-3247-4849-bca3-a6fd560f0756",
   "metadata": {},
   "source": [
    "### 1. state the hypothesis"
   ]
  },
  {
   "cell_type": "markdown",
   "id": "f828e486-0570-4661-9c8b-0c4ed29a1f88",
   "metadata": {},
   "source": [
    "<p style=\"color:blue;font-size:15px;font-family:'Times new roman';\">a hypothesis test designed to test for a statistically significant relationship between nominal and ordinal variables organized in a bivariate table it will checks the dependency between the categories.</p>\n",
    "\n",
    "**Null hypothesis (Ho):**\n",
    "\n",
    "---> The variables are independent\n",
    "\n",
    "---> The proportions of one variable are the same for different values of the other variable\n",
    "\n",
    "---> The population follows the specified distribution\n",
    "\n",
    "**Alternative hypothesis (H1):**\n",
    "\n",
    "---> The variables are related\n",
    "\n",
    "---> The proportions of one variable are not the same for different values of the other variable\n",
    "\n",
    "---> The population does not follow the specified distribution"
   ]
  },
  {
   "cell_type": "markdown",
   "id": "fde38de8-f32b-4467-a538-31409b727116",
   "metadata": {},
   "source": [
    "### 2. Calculate the Test Statistic"
   ]
  },
  {
   "cell_type": "code",
   "execution_count": 4,
   "id": "0b6ec53b-d28a-40b8-b1fd-7b9ce5c1b64c",
   "metadata": {},
   "outputs": [],
   "source": [
    "x_bar = 3050\n",
    "mu = 4000\n",
    "n = 25\n",
    "sigma = 125"
   ]
  },
  {
   "cell_type": "code",
   "execution_count": 6,
   "id": "1bee5957-f0e1-457f-809a-f3622968c8be",
   "metadata": {},
   "outputs": [
    {
     "name": "stdout",
     "output_type": "stream",
     "text": [
      "test statistic value : -38.0\n"
     ]
    }
   ],
   "source": [
    "import math    # import math library \n",
    "Zclac = (x_bar-mu)/(sigma/math.sqrt(n))     # Test statistic formula\n",
    "print(\"test statistic value :\",Zclac)"
   ]
  },
  {
   "cell_type": "markdown",
   "id": "b1d4425b-a185-4979-987f-77502ebcf933",
   "metadata": {},
   "source": [
    "### 3.Determine the Critical Value "
   ]
  },
  {
   "cell_type": "code",
   "execution_count": 14,
   "id": "0c0730d4-ac37-4935-8ed1-953bdb6ac08b",
   "metadata": {},
   "outputs": [
    {
     "name": "stdout",
     "output_type": "stream",
     "text": [
      "The critical_value : 1.645\n"
     ]
    }
   ],
   "source": [
    "from scipy.stats import norm\n",
    "alph=0.05\n",
    "z_critical=norm.ppf(1-0.05)\n",
    "z_cr=np.round(z_critical,3)\n",
    "print(f'The critical_value : {z_cr}')"
   ]
  },
  {
   "cell_type": "markdown",
   "id": "d937e44f-5439-40d4-9753-f5a96bd89cae",
   "metadata": {},
   "source": [
    "- the critical Z-value for a one-tailed test at a 5% significance level (α = 0.05) is approximately **1.645.**"
   ]
  },
  {
   "cell_type": "markdown",
   "id": "e1300229-5b2b-4f7a-baf0-dca01570d5f6",
   "metadata": {},
   "source": [
    "### 4. Make a Decision "
   ]
  },
  {
   "cell_type": "markdown",
   "id": "eaa7ee78-58a3-4b83-bb50-10c8935c8a9f",
   "metadata": {},
   "source": [
    "- The test statistic we calculated is **-38.**\n",
    "\n",
    "- The critical value for a one-tailed test at alph = 0.05 critical **z_value = 1.645.**\n",
    "\n",
    "- Since the test statistic -38 is much less than **1.645 (-38<1.645),** it is far in the left tail of the normal distribution.\n",
    "\n",
    "- The test statistic (-38) is less than the critical value (1.645), so we fail to reject the null hypothesis.\n",
    "\n",
    "- **Ho is rejected and H1 is accepted**"
   ]
  },
  {
   "cell_type": "markdown",
   "id": "148172ed-2afb-4856-bfbc-2e464d6d4bec",
   "metadata": {},
   "source": [
    "### 5. Conclusion "
   ]
  },
  {
   "cell_type": "markdown",
   "id": "08b7083d-abf1-43eb-9b4c-80c874e6f015",
   "metadata": {},
   "source": [
    "- There is not enough evidence to support the restaurant owner's claim that the weekly operating costs are higher than what the cost model suggests.\n",
    "\n",
    "- The null hypothesis stated that the average weekly operating cost is 4,000 Rs, as per the cost model\n",
    "\n",
    "- The alternative hypothesis suggested that the average cost was greater than 4,000 Rs.\n",
    "\n",
    "- However, the test statistic (-38) was much smaller than the critical value (1.645), indicating that the sample mean of 3,050 Rs is significantly lower than the theoretical value of 4,000 Rs.\n",
    "\n",
    "- Therefore, we fail to reject the null hypothesis, and there is insufficient statistical evidence to conclude that the operating costs are higher than the theoretical value of 4,000 Rs. The evidence does not support the restaurant owners' claim of increased operating costs"
   ]
  },
  {
   "cell_type": "code",
   "execution_count": null,
   "id": "4d65e947-714b-40e0-8437-f331e07479d6",
   "metadata": {},
   "outputs": [],
   "source": []
  }
 ],
 "metadata": {
  "kernelspec": {
   "display_name": "Python [conda env:base] *",
   "language": "python",
   "name": "conda-base-py"
  },
  "language_info": {
   "codemirror_mode": {
    "name": "ipython",
    "version": 3
   },
   "file_extension": ".py",
   "mimetype": "text/x-python",
   "name": "python",
   "nbconvert_exporter": "python",
   "pygments_lexer": "ipython3",
   "version": "3.12.7"
  }
 },
 "nbformat": 4,
 "nbformat_minor": 5
}
